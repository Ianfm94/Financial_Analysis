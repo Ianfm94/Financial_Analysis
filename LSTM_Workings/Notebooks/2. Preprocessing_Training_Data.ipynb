{
  "nbformat": 4,
  "nbformat_minor": 0,
  "metadata": {
    "colab": {
      "name": "2. Preprocessing_Training_Data.ipynb",
      "provenance": [],
      "collapsed_sections": [],
      "authorship_tag": "ABX9TyMbBHSeYSeOoL7cgTx+67IB",
      "include_colab_link": true
    },
    "kernelspec": {
      "name": "python3",
      "display_name": "Python 3"
    },
    "accelerator": "GPU"
  },
  "cells": [
    {
      "cell_type": "markdown",
      "metadata": {
        "id": "view-in-github",
        "colab_type": "text"
      },
      "source": [
        "<a href=\"https://colab.research.google.com/github/Ianfm94/Financial_Analysis/blob/master/LSTM_Workings/Notebooks/2.%20Preprocessing_Training_Data.ipynb\" target=\"_parent\"><img src=\"https://colab.research.google.com/assets/colab-badge.svg\" alt=\"Open In Colab\"/></a>"
      ]
    },
    {
      "cell_type": "code",
      "metadata": {
        "id": "496bQxf42eIB",
        "colab_type": "code",
        "colab": {
          "base_uri": "https://localhost:8080/",
          "height": 35
        },
        "outputId": "83009234-fa7d-4399-c0da-a401fe83c5dc"
      },
      "source": [
        "import pandas as pd\n",
        "import numpy as np\n",
        "from google.colab import  drive\n",
        "drive.mount('/drive', force_remount=True)"
      ],
      "execution_count": 11,
      "outputs": [
        {
          "output_type": "stream",
          "text": [
            "Mounted at /drive\n"
          ],
          "name": "stdout"
        }
      ]
    },
    {
      "cell_type": "code",
      "metadata": {
        "id": "Dso7wHMI0HRW",
        "colab_type": "code",
        "colab": {}
      },
      "source": [
        "data = pd.read_csv('/drive/My Drive/Colab Notebooks/Dissertation Workings/CSV Files/Training_Data.csv',\n",
        "                   index_col=0)\n",
        "\n",
        "data = pd.DataFrame(data)\n",
        "\n",
        "data_1 = data.iloc[0:, 1:]\n",
        "padding = []\n",
        "\n",
        "for i in range(2790):\n",
        "    padding.append(1)\n",
        "data_1['padding'] = padding\n",
        "\n",
        "data = data.to_numpy()\n",
        "data_1 = data_1.to_numpy()\n",
        "\n",
        "lst_,lst_1,lst_2,lst_3  = [],[],[],[]\n",
        "lst_4 = ''\n",
        "\n",
        "for i in data:\n",
        "    lst_.append(i)\n",
        "for i in data_1:\n",
        "    lst_1.append(i)\n",
        "\n",
        "for i in range(len(lst_)):\n",
        "    for j in range(len(lst_1)):\n",
        "        if i == j:\n",
        "            two_min_return = lst_1[j]/lst_[i]\n",
        "            two_min_return = two_min_return - 1\n",
        "            two_min_return = two_min_return * 100\n",
        "            lst_2.append(two_min_return)\n",
        "\n",
        "returns_1 = pd.DataFrame(lst_2)\n",
        "returns_1.drop(returns_1.columns[-1], axis=1, inplace=True)\n",
        "returns_1.to_csv('MC_Returns.csv')\n",
        "\n",
        "# 0 = Volatility, 1 = Jump "
      ],
      "execution_count": 12,
      "outputs": []
    }
  ]
}