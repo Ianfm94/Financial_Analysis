{
  "nbformat": 4,
  "nbformat_minor": 0,
  "metadata": {
    "colab": {
      "name": "MC_Simulation_Workings_06_07_20.ipynb",
      "provenance": [],
      "collapsed_sections": [],
      "authorship_tag": "ABX9TyMSp7ppVVB7sRpqZS/ZoF1i",
      "include_colab_link": true
    },
    "kernelspec": {
      "name": "python3",
      "display_name": "Python 3"
    }
  },
  "cells": [
    {
      "cell_type": "markdown",
      "metadata": {
        "id": "view-in-github",
        "colab_type": "text"
      },
      "source": [
        "<a href=\"https://colab.research.google.com/github/Ianfm94/Financial_Analysis/blob/master/LSTM_Workings/Notebooks/Preprocessing_MC_Simulation_Data.ipynb\" target=\"_parent\"><img src=\"https://colab.research.google.com/assets/colab-badge.svg\" alt=\"Open In Colab\"/></a>"
      ]
    },
    {
      "cell_type": "code",
      "metadata": {
        "id": "496bQxf42eIB",
        "colab_type": "code",
        "colab": {
          "base_uri": "https://localhost:8080/",
          "height": 35
        },
        "outputId": "bfb01518-bff4-4190-f320-1f837060e8b4"
      },
      "source": [
        "import pandas as pd\n",
        "import numpy as np\n",
        "from google.colab import  drive\n",
        "drive.mount('/drive', force_remount=True)"
      ],
      "execution_count": null,
      "outputs": [
        {
          "output_type": "stream",
          "text": [
            "Mounted at /drive\n"
          ],
          "name": "stdout"
        }
      ]
    },
    {
      "cell_type": "code",
      "metadata": {
        "id": "Dso7wHMI0HRW",
        "colab_type": "code",
        "colab": {}
      },
      "source": [
        "data = pd.read_csv('/drive/My Drive/Colab Notebooks/Dissertation Workings/CSV Files/MC_Simulations_Combined.csv',\n",
        "  index_col = 0)\n",
        "\n",
        "data = pd.DataFrame(data)\n",
        "\n",
        "data_1 = data.iloc[0:, 1:]\n",
        "padding = []\n",
        "\n",
        "for i in range(2000):\n",
        "    padding.append(1)\n",
        "data_1['padding'] = padding\n",
        "\n",
        "data = data.to_numpy()\n",
        "data_1 = data_1.to_numpy()\n",
        "\n",
        "lst_,lst_1,lst_2,lst_3  = [],[],[],[]\n",
        "lst_4 = ''\n",
        "\n",
        "for i in data:\n",
        "    lst_.append(i)\n",
        "for i in data_1:\n",
        "    lst_1.append(i)\n",
        "\n",
        "for i in range(len(lst_)):\n",
        "    for j in range(len(lst_1)):\n",
        "        if i == j:\n",
        "            two_min_return = lst_1[j]/lst_[i]\n",
        "            two_min_return = two_min_return - 1\n",
        "            two_min_return = two_min_return * 10\n",
        "            lst_2.append(two_min_return)\n",
        "\n",
        "returns_1 = pd.DataFrame(lst_2)\n",
        "returns_1.to_csv('MC_Returns.csv')\n",
        "\n",
        "# True = Jump, False = Volatility"
      ],
      "execution_count": null,
      "outputs": []
    }
  ]
}